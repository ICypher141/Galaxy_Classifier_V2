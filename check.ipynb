{
 "cells": [
  {
   "cell_type": "code",
   "execution_count": 1,
   "metadata": {},
   "outputs": [
    {
     "data": {
      "text/html": [
       "<div>\n",
       "<style scoped>\n",
       "    .dataframe tbody tr th:only-of-type {\n",
       "        vertical-align: middle;\n",
       "    }\n",
       "\n",
       "    .dataframe tbody tr th {\n",
       "        vertical-align: top;\n",
       "    }\n",
       "\n",
       "    .dataframe thead th {\n",
       "        text-align: right;\n",
       "    }\n",
       "</style>\n",
       "<table border=\"1\" class=\"dataframe\">\n",
       "  <thead>\n",
       "    <tr style=\"text-align: right;\">\n",
       "      <th></th>\n",
       "      <th>GalaxyID</th>\n",
       "      <th>Morphology</th>\n",
       "    </tr>\n",
       "  </thead>\n",
       "  <tbody>\n",
       "    <tr>\n",
       "      <th>0</th>\n",
       "      <td>100008</td>\n",
       "      <td>Spiral</td>\n",
       "    </tr>\n",
       "    <tr>\n",
       "      <th>1</th>\n",
       "      <td>100023</td>\n",
       "      <td>Spiral</td>\n",
       "    </tr>\n",
       "    <tr>\n",
       "      <th>2</th>\n",
       "      <td>100053</td>\n",
       "      <td>Elliptical</td>\n",
       "    </tr>\n",
       "    <tr>\n",
       "      <th>3</th>\n",
       "      <td>100078</td>\n",
       "      <td>Elliptical</td>\n",
       "    </tr>\n",
       "    <tr>\n",
       "      <th>4</th>\n",
       "      <td>100090</td>\n",
       "      <td>Elliptical</td>\n",
       "    </tr>\n",
       "    <tr>\n",
       "      <th>...</th>\n",
       "      <td>...</td>\n",
       "      <td>...</td>\n",
       "    </tr>\n",
       "    <tr>\n",
       "      <th>61573</th>\n",
       "      <td>999948</td>\n",
       "      <td>Elliptical</td>\n",
       "    </tr>\n",
       "    <tr>\n",
       "      <th>61574</th>\n",
       "      <td>999950</td>\n",
       "      <td>Elliptical</td>\n",
       "    </tr>\n",
       "    <tr>\n",
       "      <th>61575</th>\n",
       "      <td>999958</td>\n",
       "      <td>Spiral</td>\n",
       "    </tr>\n",
       "    <tr>\n",
       "      <th>61576</th>\n",
       "      <td>999964</td>\n",
       "      <td>Spiral</td>\n",
       "    </tr>\n",
       "    <tr>\n",
       "      <th>61577</th>\n",
       "      <td>999967</td>\n",
       "      <td>Elliptical</td>\n",
       "    </tr>\n",
       "  </tbody>\n",
       "</table>\n",
       "<p>61578 rows × 2 columns</p>\n",
       "</div>"
      ],
      "text/plain": [
       "       GalaxyID  Morphology\n",
       "0        100008      Spiral\n",
       "1        100023      Spiral\n",
       "2        100053  Elliptical\n",
       "3        100078  Elliptical\n",
       "4        100090  Elliptical\n",
       "...         ...         ...\n",
       "61573    999948  Elliptical\n",
       "61574    999950  Elliptical\n",
       "61575    999958      Spiral\n",
       "61576    999964      Spiral\n",
       "61577    999967  Elliptical\n",
       "\n",
       "[61578 rows x 2 columns]"
      ]
     },
     "execution_count": 1,
     "metadata": {},
     "output_type": "execute_result"
    }
   ],
   "source": [
    "import pandas as pd\n",
    "\n",
    "dat = pd.read_csv('galaxy_classification.csv')\n",
    "data = pd.DataFrame(dat)\n",
    "data"
   ]
  },
  {
   "cell_type": "code",
   "execution_count": 2,
   "metadata": {},
   "outputs": [
    {
     "data": {
      "text/plain": [
       "{'Elliptical': 33833, 'Spiral': 24384, 'Irregular': 3361}"
      ]
     },
     "execution_count": 2,
     "metadata": {},
     "output_type": "execute_result"
    }
   ],
   "source": [
    "dictt = data['Morphology'].value_counts().to_dict()\n",
    "dictt"
   ]
  },
  {
   "cell_type": "code",
   "execution_count": null,
   "metadata": {},
   "outputs": [],
   "source": [
    "import os\n",
    "import shutil\n",
    "import pandas as pd\n",
    "\n",
    "# Load the classification results\n",
    "csv_path = \"galaxy_classification.csv\"\n",
    "df = pd.read_csv(csv_path)\n",
    "\n",
    "# Define paths\n",
    "source_folder = \"images_test_rev1/images_test_rev1\"  # Change if images are stored elsewhere\n",
    "target_root = \"sorted_data_test/\"\n",
    "os.makedirs(target_root, exist_ok=True)\n",
    "\n",
    "# Create category folders\n",
    "categories = [\"Elliptical\", \"Spiral\", \"Irregular\"]\n",
    "for category in categories:\n",
    "    os.makedirs(os.path.join(target_root, category), exist_ok=True)\n",
    "\n",
    "# Move images to corresponding folders\n",
    "for _, row in df.iterrows():\n",
    "    galaxy_id = str(row[\"GalaxyID\"]) + \".jpg\"\n",
    "    category = row[\"Morphology\"]\n",
    "    source_path = os.path.join(source_folder, galaxy_id)\n",
    "    target_path = os.path.join(target_root, category, galaxy_id)\n",
    "    \n",
    "    if os.path.exists(source_path):\n",
    "        shutil.move(source_path, target_path)\n",
    "    else:\n",
    "        print(f\"Warning: {source_path} not found\")\n",
    "\n",
    "print(\"Data splitting completed. Images sorted into 'sorted_data_test/' by category.\")\n"
   ]
  },
  {
   "cell_type": "code",
   "execution_count": 1,
   "metadata": {},
   "outputs": [
    {
     "name": "stdout",
     "output_type": "stream",
     "text": [
      "Data successfully split into training and testing sets (80/20 ratio).\n"
     ]
    }
   ],
   "source": [
    "import os\n",
    "import shutil\n",
    "import random\n",
    "\n",
    "# Define paths\n",
    "base_dir = \"sorted_data/\"  # The folder with categorized images\n",
    "output_dir = \"final_data/\"  # Where train/test split will be stored\n",
    "\n",
    "# Define train-test split ratio\n",
    "train_ratio = 0.8\n",
    "\n",
    "# Create train and test directories\n",
    "for split in [\"train\", \"test\"]:\n",
    "    for category in os.listdir(base_dir):\n",
    "        os.makedirs(os.path.join(output_dir, split, category), exist_ok=True)\n",
    "\n",
    "# Split each category\n",
    "for category in os.listdir(base_dir):\n",
    "    category_path = os.path.join(base_dir, category)\n",
    "    images = os.listdir(category_path)\n",
    "    random.shuffle(images)\n",
    "    \n",
    "    split_index = int(len(images) * train_ratio)\n",
    "    train_images = images[:split_index]\n",
    "    test_images = images[split_index:]\n",
    "    \n",
    "    # Move images to respective folders\n",
    "    for img in train_images:\n",
    "        shutil.move(os.path.join(category_path, img), os.path.join(output_dir, \"train\", category, img))\n",
    "    for img in test_images:\n",
    "        shutil.move(os.path.join(category_path, img), os.path.join(output_dir, \"test\", category, img))\n",
    "\n",
    "print(\"Data successfully split into training and testing sets (80/20 ratio).\")\n"
   ]
  }
 ],
 "metadata": {
  "kernelspec": {
   "display_name": "Python 3",
   "language": "python",
   "name": "python3"
  },
  "language_info": {
   "codemirror_mode": {
    "name": "ipython",
    "version": 3
   },
   "file_extension": ".py",
   "mimetype": "text/x-python",
   "name": "python",
   "nbconvert_exporter": "python",
   "pygments_lexer": "ipython3",
   "version": "3.12.3"
  }
 },
 "nbformat": 4,
 "nbformat_minor": 2
}
